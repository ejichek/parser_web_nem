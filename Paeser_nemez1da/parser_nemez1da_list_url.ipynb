{
 "cells": [
  {
   "cell_type": "code",
   "execution_count": 1,
   "metadata": {},
   "outputs": [],
   "source": [
    "import pandas as pd\n",
    "\n",
    "from bs4 import BeautifulSoup\n",
    "import requests\n",
    "\n",
    "import selenium \n",
    "from selenium import webdriver\n",
    "\n",
    "from selenium import webdriver\n",
    "from selenium.webdriver.common.by import By\n",
    "from selenium.webdriver.support.ui import WebDriverWait\n",
    "from selenium.webdriver.support import expected_conditions as EC\n",
    "import time"
   ]
  },
  {
   "cell_type": "code",
   "execution_count": 2,
   "metadata": {},
   "outputs": [],
   "source": [
    "pageSource = None\n",
    "\n",
    "lich_data_big_str = None\n",
    "data_lich_split  = None\n",
    "inf_zip_lists = None\n",
    "\n",
    "FIO = None \n",
    "date_birth = None\n",
    "kategori = None\n",
    "dolzhnost = None\n",
    "adress_reg = None\n",
    "drfo = None\n",
    "passport = None\n",
    "deaytelnost = None\n",
    "telefon = None\n",
    "dopolnitelno = None\n",
    "\n",
    "FIO_list = []\n",
    "date_birth_list = []\n",
    "kategori_list = []\n",
    "dolzhnost_list = []\n",
    "adress_reg_list = []\n",
    "drfo_list = []\n",
    "passport_list = []\n",
    "deaytelnost_list = []\n",
    "telefon_list = []\n",
    "\n",
    "\n",
    "df = pd.DataFrame( columns=['ФИО', 'Дата рождения', 'Пасспорт', 'ДРФО','Категория', 'Должность',\n",
    "                            'Адресс_регистрации', 'Деятельность', 'Телефон', 'Дополнительно'])"
   ]
  },
  {
   "cell_type": "code",
   "execution_count": 6,
   "metadata": {},
   "outputs": [
    {
     "name": "stderr",
     "output_type": "stream",
     "text": [
      "<ipython-input-6-31a90e541d6c>:1: DeprecationWarning: executable_path has been deprecated, please pass in a Service object\n",
      "  driver = webdriver.Chrome(r'C:\\webdrivers\\chromedriver.exe')\n"
     ]
    }
   ],
   "source": [
    "driver = webdriver.Chrome(r'C:\\webdrivers\\chromedriver.exe')\n",
    "#URL = 'https://nemez1da.ru/naczistskie-podrazdeleniya/polk-azov/borisov-georgij-aleksandrovich-borisov-georgij-oleksandrovich/'\n",
    "#Борисов Георгий Александрович (Борисов Георгій Олександрович)\n",
    "#driver.get(URL)\n",
    "#driver.maximize_window()"
   ]
  },
  {
   "cell_type": "code",
   "execution_count": 7,
   "metadata": {},
   "outputs": [],
   "source": [
    "with open ('list_url.txt', 'r') as f:\n",
    "    urls_big_str = f.read()"
   ]
  },
  {
   "cell_type": "code",
   "execution_count": 8,
   "metadata": {},
   "outputs": [
    {
     "name": "stdout",
     "output_type": "stream",
     "text": [
      "1 Шиян Анатолий Васильевич (Шиян Анатолій Васильович)\n"
     ]
    },
    {
     "ename": "InvalidSessionIdException",
     "evalue": "Message: invalid session id\nStacktrace:\nBacktrace:\n\tOrdinal0 [0x004DD953+2414931]\n\tOrdinal0 [0x0046F5E1+1963489]\n\tOrdinal0 [0x0035C580+836992]\n\tOrdinal0 [0x0037E2E0+975584]\n\tOrdinal0 [0x003A4390+1131408]\n\tOrdinal0 [0x003A21F8+1122808]\n\tOrdinal0 [0x003A1D99+1121689]\n\tOrdinal0 [0x0033CEC7+708295]\n\tOrdinal0 [0x0033D443+709699]\n\tOrdinal0 [0x0033D87A+710778]\n\tGetHandleVerifier [0x0074CC62+2510274]\n\tGetHandleVerifier [0x0073F760+2455744]\n\tGetHandleVerifier [0x0056EABA+551962]\n\tGetHandleVerifier [0x0056D916+547446]\n\tOrdinal0 [0x00475F3B+1990459]\n\tOrdinal0 [0x0033CC57+707671]\n\tOrdinal0 [0x0033C708+706312]\n\tGetHandleVerifier [0x00768E1C+2625404]\n\tBaseThreadInitThunk [0x7668FA29+25]\n\tRtlGetAppContainerNamedObjectPath [0x77537A7E+286]\n\tRtlGetAppContainerNamedObjectPath [0x77537A4E+238]\n",
     "output_type": "error",
     "traceback": [
      "\u001b[1;31m---------------------------------------------------------------------------\u001b[0m",
      "\u001b[1;31mInvalidSessionIdException\u001b[0m                 Traceback (most recent call last)",
      "\u001b[1;32m<ipython-input-8-7e99a91fc6ba>\u001b[0m in \u001b[0;36m<module>\u001b[1;34m\u001b[0m\n\u001b[0;32m      4\u001b[0m     \u001b[0mcnt\u001b[0m \u001b[1;33m+=\u001b[0m \u001b[1;36m1\u001b[0m\u001b[1;33m\u001b[0m\u001b[1;33m\u001b[0m\u001b[0m\n\u001b[0;32m      5\u001b[0m     \u001b[0mtime\u001b[0m\u001b[1;33m.\u001b[0m\u001b[0msleep\u001b[0m\u001b[1;33m(\u001b[0m\u001b[1;36m0.5\u001b[0m\u001b[1;33m)\u001b[0m\u001b[1;33m\u001b[0m\u001b[1;33m\u001b[0m\u001b[0m\n\u001b[1;32m----> 6\u001b[1;33m     \u001b[0mdriver\u001b[0m\u001b[1;33m.\u001b[0m\u001b[0mget\u001b[0m\u001b[1;33m(\u001b[0m\u001b[0murl\u001b[0m\u001b[1;33m)\u001b[0m\u001b[1;33m\u001b[0m\u001b[1;33m\u001b[0m\u001b[0m\n\u001b[0m\u001b[0;32m      7\u001b[0m     \u001b[0mtime\u001b[0m\u001b[1;33m.\u001b[0m\u001b[0msleep\u001b[0m\u001b[1;33m(\u001b[0m\u001b[1;36m0.5\u001b[0m\u001b[1;33m)\u001b[0m\u001b[1;33m\u001b[0m\u001b[1;33m\u001b[0m\u001b[0m\n\u001b[0;32m      8\u001b[0m     \u001b[0mpageSource\u001b[0m \u001b[1;33m=\u001b[0m \u001b[0mdriver\u001b[0m\u001b[1;33m.\u001b[0m\u001b[0mpage_source\u001b[0m\u001b[1;33m\u001b[0m\u001b[1;33m\u001b[0m\u001b[0m\n",
      "\u001b[1;32m~\\anaconda3\\lib\\site-packages\\selenium\\webdriver\\remote\\webdriver.py\u001b[0m in \u001b[0;36mget\u001b[1;34m(self, url)\u001b[0m\n\u001b[0;32m    440\u001b[0m         \u001b[0mLoads\u001b[0m \u001b[0ma\u001b[0m \u001b[0mweb\u001b[0m \u001b[0mpage\u001b[0m \u001b[1;32min\u001b[0m \u001b[0mthe\u001b[0m \u001b[0mcurrent\u001b[0m \u001b[0mbrowser\u001b[0m \u001b[0msession\u001b[0m\u001b[1;33m.\u001b[0m\u001b[1;33m\u001b[0m\u001b[1;33m\u001b[0m\u001b[0m\n\u001b[0;32m    441\u001b[0m         \"\"\"\n\u001b[1;32m--> 442\u001b[1;33m         \u001b[0mself\u001b[0m\u001b[1;33m.\u001b[0m\u001b[0mexecute\u001b[0m\u001b[1;33m(\u001b[0m\u001b[0mCommand\u001b[0m\u001b[1;33m.\u001b[0m\u001b[0mGET\u001b[0m\u001b[1;33m,\u001b[0m \u001b[1;33m{\u001b[0m\u001b[1;34m'url'\u001b[0m\u001b[1;33m:\u001b[0m \u001b[0murl\u001b[0m\u001b[1;33m}\u001b[0m\u001b[1;33m)\u001b[0m\u001b[1;33m\u001b[0m\u001b[1;33m\u001b[0m\u001b[0m\n\u001b[0m\u001b[0;32m    443\u001b[0m \u001b[1;33m\u001b[0m\u001b[0m\n\u001b[0;32m    444\u001b[0m     \u001b[1;33m@\u001b[0m\u001b[0mproperty\u001b[0m\u001b[1;33m\u001b[0m\u001b[1;33m\u001b[0m\u001b[0m\n",
      "\u001b[1;32m~\\anaconda3\\lib\\site-packages\\selenium\\webdriver\\remote\\webdriver.py\u001b[0m in \u001b[0;36mexecute\u001b[1;34m(self, driver_command, params)\u001b[0m\n\u001b[0;32m    428\u001b[0m         \u001b[0mresponse\u001b[0m \u001b[1;33m=\u001b[0m \u001b[0mself\u001b[0m\u001b[1;33m.\u001b[0m\u001b[0mcommand_executor\u001b[0m\u001b[1;33m.\u001b[0m\u001b[0mexecute\u001b[0m\u001b[1;33m(\u001b[0m\u001b[0mdriver_command\u001b[0m\u001b[1;33m,\u001b[0m \u001b[0mparams\u001b[0m\u001b[1;33m)\u001b[0m\u001b[1;33m\u001b[0m\u001b[1;33m\u001b[0m\u001b[0m\n\u001b[0;32m    429\u001b[0m         \u001b[1;32mif\u001b[0m \u001b[0mresponse\u001b[0m\u001b[1;33m:\u001b[0m\u001b[1;33m\u001b[0m\u001b[1;33m\u001b[0m\u001b[0m\n\u001b[1;32m--> 430\u001b[1;33m             \u001b[0mself\u001b[0m\u001b[1;33m.\u001b[0m\u001b[0merror_handler\u001b[0m\u001b[1;33m.\u001b[0m\u001b[0mcheck_response\u001b[0m\u001b[1;33m(\u001b[0m\u001b[0mresponse\u001b[0m\u001b[1;33m)\u001b[0m\u001b[1;33m\u001b[0m\u001b[1;33m\u001b[0m\u001b[0m\n\u001b[0m\u001b[0;32m    431\u001b[0m             response['value'] = self._unwrap_value(\n\u001b[0;32m    432\u001b[0m                 response.get('value', None))\n",
      "\u001b[1;32m~\\anaconda3\\lib\\site-packages\\selenium\\webdriver\\remote\\errorhandler.py\u001b[0m in \u001b[0;36mcheck_response\u001b[1;34m(self, response)\u001b[0m\n\u001b[0;32m    245\u001b[0m                 \u001b[0malert_text\u001b[0m \u001b[1;33m=\u001b[0m \u001b[0mvalue\u001b[0m\u001b[1;33m[\u001b[0m\u001b[1;34m'alert'\u001b[0m\u001b[1;33m]\u001b[0m\u001b[1;33m.\u001b[0m\u001b[0mget\u001b[0m\u001b[1;33m(\u001b[0m\u001b[1;34m'text'\u001b[0m\u001b[1;33m)\u001b[0m\u001b[1;33m\u001b[0m\u001b[1;33m\u001b[0m\u001b[0m\n\u001b[0;32m    246\u001b[0m             \u001b[1;32mraise\u001b[0m \u001b[0mexception_class\u001b[0m\u001b[1;33m(\u001b[0m\u001b[0mmessage\u001b[0m\u001b[1;33m,\u001b[0m \u001b[0mscreen\u001b[0m\u001b[1;33m,\u001b[0m \u001b[0mstacktrace\u001b[0m\u001b[1;33m,\u001b[0m \u001b[0malert_text\u001b[0m\u001b[1;33m)\u001b[0m  \u001b[1;31m# type: ignore[call-arg]  # mypy is not smart enough here\u001b[0m\u001b[1;33m\u001b[0m\u001b[1;33m\u001b[0m\u001b[0m\n\u001b[1;32m--> 247\u001b[1;33m         \u001b[1;32mraise\u001b[0m \u001b[0mexception_class\u001b[0m\u001b[1;33m(\u001b[0m\u001b[0mmessage\u001b[0m\u001b[1;33m,\u001b[0m \u001b[0mscreen\u001b[0m\u001b[1;33m,\u001b[0m \u001b[0mstacktrace\u001b[0m\u001b[1;33m)\u001b[0m\u001b[1;33m\u001b[0m\u001b[1;33m\u001b[0m\u001b[0m\n\u001b[0m\u001b[0;32m    248\u001b[0m \u001b[1;33m\u001b[0m\u001b[0m\n\u001b[0;32m    249\u001b[0m     \u001b[1;32mdef\u001b[0m \u001b[0m_value_or_default\u001b[0m\u001b[1;33m(\u001b[0m\u001b[0mself\u001b[0m\u001b[1;33m,\u001b[0m \u001b[0mobj\u001b[0m\u001b[1;33m:\u001b[0m \u001b[0mMapping\u001b[0m\u001b[1;33m[\u001b[0m\u001b[0m_KT\u001b[0m\u001b[1;33m,\u001b[0m \u001b[0m_VT\u001b[0m\u001b[1;33m]\u001b[0m\u001b[1;33m,\u001b[0m \u001b[0mkey\u001b[0m\u001b[1;33m:\u001b[0m \u001b[0m_KT\u001b[0m\u001b[1;33m,\u001b[0m \u001b[0mdefault\u001b[0m\u001b[1;33m:\u001b[0m \u001b[0m_VT\u001b[0m\u001b[1;33m)\u001b[0m \u001b[1;33m->\u001b[0m \u001b[0m_VT\u001b[0m\u001b[1;33m:\u001b[0m\u001b[1;33m\u001b[0m\u001b[1;33m\u001b[0m\u001b[0m\n",
      "\u001b[1;31mInvalidSessionIdException\u001b[0m: Message: invalid session id\nStacktrace:\nBacktrace:\n\tOrdinal0 [0x004DD953+2414931]\n\tOrdinal0 [0x0046F5E1+1963489]\n\tOrdinal0 [0x0035C580+836992]\n\tOrdinal0 [0x0037E2E0+975584]\n\tOrdinal0 [0x003A4390+1131408]\n\tOrdinal0 [0x003A21F8+1122808]\n\tOrdinal0 [0x003A1D99+1121689]\n\tOrdinal0 [0x0033CEC7+708295]\n\tOrdinal0 [0x0033D443+709699]\n\tOrdinal0 [0x0033D87A+710778]\n\tGetHandleVerifier [0x0074CC62+2510274]\n\tGetHandleVerifier [0x0073F760+2455744]\n\tGetHandleVerifier [0x0056EABA+551962]\n\tGetHandleVerifier [0x0056D916+547446]\n\tOrdinal0 [0x00475F3B+1990459]\n\tOrdinal0 [0x0033CC57+707671]\n\tOrdinal0 [0x0033C708+706312]\n\tGetHandleVerifier [0x00768E1C+2625404]\n\tBaseThreadInitThunk [0x7668FA29+25]\n\tRtlGetAppContainerNamedObjectPath [0x77537A7E+286]\n\tRtlGetAppContainerNamedObjectPath [0x77537A4E+238]\n"
     ]
    }
   ],
   "source": [
    "urls = urls_big_str.split('\\n')\n",
    "cnt = 0\n",
    "for url in urls:\n",
    "    cnt += 1\n",
    "    time.sleep(0.5)\n",
    "    driver.get(url)\n",
    "    time.sleep(0.5)\n",
    "    pageSource = driver.page_source\n",
    "    soup = BeautifulSoup(pageSource)\n",
    "    #time.sleep(0.5)\n",
    "    FIO = soup.find('h1',class_=\"post-title entry-title\").text\n",
    "    \n",
    "#    FIO_list.append(FIO)\n",
    "    print(cnt, FIO)\n",
    "    \n",
    "    lich_data_big_str = soup.find('div',class_=\"entry-content simple-grid-clearfix\").text\n",
    "\n",
    "    data_lich_split = lich_data_big_str.split('\\n')\n",
    "    data_lich_split = [i1 for i1 in data_lich_split if i1 != '' and i1 !=' ']\n",
    "    for i in data_lich_split:\n",
    "        if 'Категория' in i:\n",
    "            kategori = i [i.find('Категория') + 9: len(i) ]\n",
    "            #kategori_list.append(kategori)\n",
    "        if 'Дата рождения' in i:\n",
    "            date_birth = i [i.find('Дата рождения') + 13: len(i) ]\n",
    "            #date_birth_list.append(date_birth)\n",
    "        if 'Должность' in i:\n",
    "            dolzhnost = i [i.find('Должность') + 9: len(i) ]\n",
    "            #dolzhnost_list.append(dolzhnost)\n",
    "        if 'Зарегистрирован по адресу' in i:\n",
    "            adress_reg = i [i.find('Зарегистрирован по адресу') + 25: len(i) ]\n",
    "            #adress_reg_list.append(adress_reg)\n",
    "        if 'Паспорт' in i:\n",
    "            passport = i [i.find('Паспорт') + 7: len(i) ]\n",
    "            #passport_list.append(passport)\n",
    "        if 'Деятельность' in i:\n",
    "            deaytelnost = i [i.find('Деятельность') + 12: len(i) ]\n",
    "            #deaytelnost_list.append(deaytelnost)\n",
    "        if 'Телефон' in i:\n",
    "            telefon = i [i.find('Телефон') + 7: len(i) ]\n",
    "            #telefon_list.append(telefon)           \n",
    "        if 'ДРФО' in i:\n",
    "            drfo = i [i.find('ДРФО') + 4: len(i) ]            \n",
    "        if 'Дополнительно' in i:\n",
    "            dopolnitelno = i [i.find('Дополнительно') + 13: len(i) ]\n",
    "            #telefon_list.append(telefon)        \n",
    "\n",
    "    #time.sleep(0.5)        \n",
    "#         drfo_list.append(drfo_list)\n",
    "#         passport_list.append(passport_list)           \n",
    "    df = df.append({'ФИО': FIO, 'Дата рождения': date_birth, 'Пасспорт': passport, 'ДРФО': drfo,\n",
    "                    'Категория': kategori,'Должность': dolzhnost, 'Адресс_регистрации': adress_reg,\n",
    "                    'Деятельность': deaytelnost,'Телефон': telefon, 'Дополнительно':dopolnitelno}, ignore_index=True)\n",
    "       \n",
    "    FIO = None \n",
    "    date_birth = None\n",
    "    dolzhnost = None\n",
    "    adress_reg = None\n",
    "    drfo = None\n",
    "    passport = None\n",
    "    deaytelnost = None\n",
    "    telefon = None \n",
    "    dopolnitelno = None\n",
    "    kategori = None\n",
    "    \n",
    "    driver.close()\n",
    "#driver.close()\n",
    "#driver.quit()"
   ]
  },
  {
   "cell_type": "code",
   "execution_count": null,
   "metadata": {},
   "outputs": [],
   "source": [
    "df"
   ]
  },
  {
   "cell_type": "code",
   "execution_count": null,
   "metadata": {},
   "outputs": [],
   "source": [
    "for i_123 in urls: \n",
    "    \n",
    "    time.sleep(0.5)\n",
    "    #WebDriverWait(driver,100).until(EC.element_to_be_clickable((By.XPATH,'/html/body/div[4]/div/div/div[1]/div/div[1]/div[1]/nav/div/div[1]/a'))).click()\n",
    "   \n",
    "    pageSource = driver.page_source\n",
    "    soup = BeautifulSoup(pageSource)\n",
    "    #time.sleep(0.5)\n",
    "    FIO = soup.find('h1',class_=\"post-title entry-title\").text\n",
    "    \n",
    "#    FIO_list.append(FIO)\n",
    "    print(i_123, FIO)\n",
    "    \n",
    "    lich_data_big_str = soup.find('div',class_=\"entry-content simple-grid-clearfix\").text\n",
    "\n",
    "    data_lich_split = lich_data_big_str.split('\\n')\n",
    "    data_lich_split = [i1 for i1 in data_lich_split if i1 != '' and i1 !=' ']\n",
    "    for i in data_lich_split:\n",
    "        if 'Категория' in i:\n",
    "            kategori = i [i.find('Категория') + 9: len(i) ]\n",
    "            #kategori_list.append(kategori)\n",
    "        if 'Дата рождения' in i:\n",
    "            date_birth = i [i.find('Дата рождения') + 13: len(i) ]\n",
    "            #date_birth_list.append(date_birth)\n",
    "        if 'Должность' in i:\n",
    "            dolzhnost = i [i.find('Должность') + 9: len(i) ]\n",
    "            #dolzhnost_list.append(dolzhnost)\n",
    "        if 'Зарегистрирован по адресу' in i:\n",
    "            adress_reg = i [i.find('Зарегистрирован по адресу') + 25: len(i) ]\n",
    "            #adress_reg_list.append(adress_reg)\n",
    "        if 'Паспорт' in i:\n",
    "            passport = i [i.find('Паспорт') + 7: len(i) ]\n",
    "            #passport_list.append(passport)\n",
    "        if 'Деятельность' in i:\n",
    "            deaytelnost = i [i.find('Деятельность') + 12: len(i) ]\n",
    "            #deaytelnost_list.append(deaytelnost)\n",
    "        if 'Телефон' in i:\n",
    "            telefon = i [i.find('Телефон') + 7: len(i) ]\n",
    "            #telefon_list.append(telefon)           \n",
    "        if 'ДРФО' in i:\n",
    "            drfo = i [i.find('ДРФО') + 4: len(i) ]            \n",
    "        if 'Дополнительно' in i:\n",
    "            dopolnitelno = i [i.find('Дополнительно') + 13: len(i) ]\n",
    "            #telefon_list.append(telefon)        \n",
    "\n",
    "    time.sleep(0.5)        \n",
    "#         drfo_list.append(drfo_list)\n",
    "#         passport_list.append(passport_list)           \n",
    "    df = df.append({'ФИО': FIO, 'Дата рождения': date_birth, 'Пасспорт': passport, 'ДРФО': drfo,\n",
    "                    'Категория': kategori,'Должность': dolzhnost, 'Адресс_регистрации': adress_reg,\n",
    "                    'Деятельность': deaytelnost,'Телефон': telefon, 'Дополнительно':dopolnitelno}, ignore_index=True)\n",
    "       \n",
    "    FIO = None \n",
    "    date_birth = None\n",
    "    dolzhnost = None\n",
    "    adress_reg = None\n",
    "    drfo = None\n",
    "    passport = None\n",
    "    deaytelnost = None\n",
    "    telefon = None \n",
    "    dopolnitelno = None\n",
    "    kategori = None\n",
    "    \n",
    "    \n",
    "   \n",
    "    #time.sleep(0.5)"
   ]
  },
  {
   "cell_type": "code",
   "execution_count": null,
   "metadata": {},
   "outputs": [],
   "source": [
    "df"
   ]
  },
  {
   "cell_type": "code",
   "execution_count": null,
   "metadata": {},
   "outputs": [],
   "source": [
    "df.drop_duplicates"
   ]
  },
  {
   "cell_type": "code",
   "execution_count": null,
   "metadata": {},
   "outputs": [],
   "source": [
    "df.to_csv('nemez1da_voennie_pres.csv', sep=';', encoding='utf-8')"
   ]
  },
  {
   "cell_type": "code",
   "execution_count": null,
   "metadata": {},
   "outputs": [],
   "source": [
    "df.to_excel('nemez1da_pop2.xls')"
   ]
  },
  {
   "cell_type": "code",
   "execution_count": null,
   "metadata": {},
   "outputs": [],
   "source": []
  }
 ],
 "metadata": {
  "kernelspec": {
   "display_name": "Python 3",
   "language": "python",
   "name": "python3"
  },
  "language_info": {
   "codemirror_mode": {
    "name": "ipython",
    "version": 3
   },
   "file_extension": ".py",
   "mimetype": "text/x-python",
   "name": "python",
   "nbconvert_exporter": "python",
   "pygments_lexer": "ipython3",
   "version": "3.8.8"
  }
 },
 "nbformat": 4,
 "nbformat_minor": 2
}
